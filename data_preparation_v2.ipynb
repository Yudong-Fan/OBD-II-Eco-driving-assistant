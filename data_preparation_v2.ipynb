{
 "cells": [
  {
   "cell_type": "code",
   "execution_count": 1,
   "metadata": {},
   "outputs": [],
   "source": [
    "import numpy as np\n",
    "import pandas as pd\n",
    "import matplotlib.pyplot as plt\n",
    "import seaborn as sns "
   ]
  },
  {
   "cell_type": "code",
   "execution_count": 2,
   "metadata": {},
   "outputs": [],
   "source": [
    "total = pd.read_csv('./total_v1.csv').iloc[:, :-1]"
   ]
  },
  {
   "cell_type": "code",
   "execution_count": 3,
   "metadata": {},
   "outputs": [],
   "source": [
    "\n",
    "total['FUEL_RATE_SQRT'] = np.sqrt(total['FUEL_RATE'])\n",
    "total['FUEL_RATE_PWR_2'] = np.power(total['FUEL_RATE'],2)\n",
    "total['FUEL_RATE_PWR_3'] = np.power(total['FUEL_RATE'],3)\n",
    "total['INTAKE_MANIFOLD_PRESSURE_SQRT'] = np.sqrt(total['INTAKE_MANIFOLD_PRESSURE'])\n",
    "total['INTAKE_MANIFOLD_PRESSURE_PWR_2'] = np.power(total['INTAKE_MANIFOLD_PRESSURE'],2)\n",
    "total['INTAKE_MANIFOLD_PRESSURE_PWR_3'] = np.power(total['INTAKE_MANIFOLD_PRESSURE'],3)\n",
    "total['MAF_SQRT'] = np.sqrt(total['MAF'])\n",
    "total['MAF_PWR_2'] = np.power(total['MAF'],2)\n",
    "total['MAF_PWR_3'] = np.power(total['MAF'],3)\n",
    "total['ENGINE_RPM_SQRT'] = np.sqrt(total['ENGINE_RPM'])\n",
    "total['ENGINE_RPM_PWR_2'] = np.power(total['ENGINE_RPM'],2)\n",
    "total['ENGINE_RPM_PWR_3'] = np.power(total['ENGINE_RPM'],3)\n",
    "total['SPEED_SQRT'] = np.sqrt(total['SPEED'])\n",
    "total['SPEED_PWR_2'] = np.power(total['SPEED'],2)\n",
    "total['SPEED_PWR_3'] = np.power(total['SPEED'],3)\n",
    "total['ENGINE_LOAD_SQRT'] = np.sqrt(total['ENGINE_LOAD'])\n",
    "total['ENGINE_LOAD_PWR_2'] = np.power(total['ENGINE_LOAD'],2)\n",
    "total['ENGINE_LOAD_PWR_3'] = np.power(total['ENGINE_LOAD'],3)\n",
    "total['THROTTLE_POS_SQRT'] = np.sqrt(total['THROTTLE_POS'])\n",
    "total['THROTTLE_POS_PWR_2'] = np.power(total['THROTTLE_POS'],2)\n",
    "total['THROTTLE_POS_PWR_3'] = np.power(total['THROTTLE_POS'],3)\n",
    "\n",
    "total['SPEED_X_ENGINE_LOAD'] = total['SPEED'] * total['ENGINE_LOAD']\n",
    "total['SPEED_X_MAF'] = total['SPEED'] * total['MAF']\n",
    "total['SPEED_X_FUEL_RATE'] = total['SPEED'] * total['FUEL_RATE']\n",
    "total['SPEED_X_ENGINE_RPM'] = total['SPEED'] * total['ENGINE_RPM']\n",
    "total['SPEED_X_THROTTLE_POS'] = total['SPEED'] * total['THROTTLE_POS']\n",
    "total['SPEED_X_INTAKE_MANIFOLD_PRESSURE'] = total['SPEED'] * total['INTAKE_MANIFOLD_PRESSURE']\n",
    "\n",
    "total['SPEED_X_ENGINE_LOAD'] = total['SPEED'] * total['ENGINE_LOAD']\n",
    "total['SPEED_X_MAF'] = total['SPEED'] * total['MAF']\n",
    "total['SPEED_X_FUEL_RATE'] = total['SPEED'] * total['FUEL_RATE']\n",
    "total['SPEED_X_ENGINE_RPM'] = total['SPEED'] * total['ENGINE_RPM']\n",
    "total['SPEED_X_THROTTLE_POS'] = total['SPEED'] * total['THROTTLE_POS']\n",
    "total['SPEED_X_INTAKE_MANIFOLD_PRESSURE'] = total['SPEED'] * total['INTAKE_MANIFOLD_PRESSURE']\n",
    "\n",
    "total['MAF_X_ENGINE_LOAD'] = total['MAF'] * total['ENGINE_LOAD']\n",
    "total['MAF_X_FUEL_RATE'] = total['MAF'] * total['FUEL_RATE']\n",
    "total['MAF_X_ENGINE_RPM'] = total['MAF'] * total['ENGINE_RPM']\n",
    "total['MAF_X_THROTTLE_POS'] = total['MAF'] * total['THROTTLE_POS']\n",
    "total['MAF_X_INTAKE_MANIFOLD_PRESSURE'] = total['MAF'] * total['INTAKE_MANIFOLD_PRESSURE']\n",
    "\n",
    "total['FUEL_RATE_X_ENGINE_LOAD'] = total['FUEL_RATE'] * total['ENGINE_LOAD']\n",
    "total['FUEL_RATE_X_ENGINE_RPM'] = total['FUEL_RATE'] * total['ENGINE_RPM']\n",
    "total['FUEL_RATE_X_THROTTLE_POS'] = total['FUEL_RATE'] * total['THROTTLE_POS']\n",
    "total['FUEL_RATE_X_INTAKE_MANIFOLD_PRESSURE'] = total['FUEL_RATE'] * total['INTAKE_MANIFOLD_PRESSURE']\n",
    "\n",
    "# total['1'] = total['SPEED_SQRT'] * total['ENGINE_LOAD_SQRT']\n",
    "# total['2'] = total['SPEED_SQRT'] * total['FUEL_RATE_SQRT']\n",
    "# total['3'] = total['SPEED_SQRT'] * total['MAF_SQRT']\n",
    "# total['4'] = total['SPEED_SQRT'] * total['INTAKE_MANIFOLD_PRESSURE']\n",
    "# total['5'] = total['SPEED_SQRT'] * total['ENGINE_RPM_SQRT']\n",
    "# total['6'] = total['SPEED_PWR_2'] * total['ENGINE_LOAD_PWR_2']\n",
    "# total['7'] = total['SPEED_PWR_2'] * total['FUEL_RATE_PWR_2']\n",
    "# total['8'] = total['SPEED_PWR_2'] * total['MAF_PWR_2']\n",
    "# total['9'] = total['SPEED_PWR_2'] * total['INTAKE_MANIFOLD_PRESSURE']\n",
    "# total['10'] = total['SPEED_PWR_2'] * total['ENGINE_RPM_PWR_2']\n",
    "\n",
    "total['FUEL_CONSUMPTION'] = (total['FUEL_RATE'] / total['SPEED']) * 100\n"
   ]
  },
  {
   "cell_type": "code",
   "execution_count": 4,
   "metadata": {},
   "outputs": [
    {
     "name": "stdout",
     "output_type": "stream",
     "text": [
      "<class 'pandas.core.frame.DataFrame'>\n",
      "RangeIndex: 17105 entries, 0 to 17104\n",
      "Data columns (total 44 columns):\n",
      " #   Column                                Non-Null Count  Dtype  \n",
      "---  ------                                --------------  -----  \n",
      " 0   SPEED                                 17105 non-null  float64\n",
      " 1   MAF                                   17105 non-null  float64\n",
      " 2   ENGINE_RPM                            17105 non-null  float64\n",
      " 3   THROTTLE_POS                          17105 non-null  float64\n",
      " 4   INTAKE_MANIFOLD_PRESSURE              17105 non-null  float64\n",
      " 5   ENGINE_LOAD                           17105 non-null  float64\n",
      " 6   FUEL_RATE                             17105 non-null  float64\n",
      " 7   FUEL_RATE_SQRT                        17105 non-null  float64\n",
      " 8   FUEL_RATE_PWR_2                       17105 non-null  float64\n",
      " 9   FUEL_RATE_PWR_3                       17105 non-null  float64\n",
      " 10  INTAKE_MANIFOLD_PRESSURE_SQRT         17105 non-null  float64\n",
      " 11  INTAKE_MANIFOLD_PRESSURE_PWR_2        17105 non-null  float64\n",
      " 12  INTAKE_MANIFOLD_PRESSURE_PWR_3        17105 non-null  float64\n",
      " 13  MAF_SQRT                              17105 non-null  float64\n",
      " 14  MAF_PWR_2                             17105 non-null  float64\n",
      " 15  MAF_PWR_3                             17105 non-null  float64\n",
      " 16  ENGINE_RPM_SQRT                       17105 non-null  float64\n",
      " 17  ENGINE_RPM_PWR_2                      17105 non-null  float64\n",
      " 18  ENGINE_RPM_PWR_3                      17105 non-null  float64\n",
      " 19  SPEED_SQRT                            17105 non-null  float64\n",
      " 20  SPEED_PWR_2                           17105 non-null  float64\n",
      " 21  SPEED_PWR_3                           17105 non-null  float64\n",
      " 22  ENGINE_LOAD_SQRT                      17105 non-null  float64\n",
      " 23  ENGINE_LOAD_PWR_2                     17105 non-null  float64\n",
      " 24  ENGINE_LOAD_PWR_3                     17105 non-null  float64\n",
      " 25  THROTTLE_POS_SQRT                     17105 non-null  float64\n",
      " 26  THROTTLE_POS_PWR_2                    17105 non-null  float64\n",
      " 27  THROTTLE_POS_PWR_3                    17105 non-null  float64\n",
      " 28  SPEED_X_ENGINE_LOAD                   17105 non-null  float64\n",
      " 29  SPEED_X_MAF                           17105 non-null  float64\n",
      " 30  SPEED_X_FUEL_RATE                     17105 non-null  float64\n",
      " 31  SPEED_X_ENGINE_RPM                    17105 non-null  float64\n",
      " 32  SPEED_X_THROTTLE_POS                  17105 non-null  float64\n",
      " 33  SPEED_X_INTAKE_MANIFOLD_PRESSURE      17105 non-null  float64\n",
      " 34  MAF_X_ENGINE_LOAD                     17105 non-null  float64\n",
      " 35  MAF_X_FUEL_RATE                       17105 non-null  float64\n",
      " 36  MAF_X_ENGINE_RPM                      17105 non-null  float64\n",
      " 37  MAF_X_THROTTLE_POS                    17105 non-null  float64\n",
      " 38  MAF_X_INTAKE_MANIFOLD_PRESSURE        17105 non-null  float64\n",
      " 39  FUEL_RATE_X_ENGINE_LOAD               17105 non-null  float64\n",
      " 40  FUEL_RATE_X_ENGINE_RPM                17105 non-null  float64\n",
      " 41  FUEL_RATE_X_THROTTLE_POS              17105 non-null  float64\n",
      " 42  FUEL_RATE_X_INTAKE_MANIFOLD_PRESSURE  17105 non-null  float64\n",
      " 43  FUEL_CONSUMPTION                      17105 non-null  float64\n",
      "dtypes: float64(44)\n",
      "memory usage: 5.7 MB\n"
     ]
    }
   ],
   "source": [
    "total.info()"
   ]
  },
  {
   "cell_type": "code",
   "execution_count": null,
   "metadata": {},
   "outputs": [],
   "source": []
  },
  {
   "cell_type": "code",
   "execution_count": 5,
   "metadata": {},
   "outputs": [],
   "source": [
    "# split shuffled train and test sets\n",
    "train_shuffled = total.iloc[:10000, :]\n",
    "test_shuffled = total.iloc[10000:, :]"
   ]
  },
  {
   "cell_type": "code",
   "execution_count": 6,
   "metadata": {},
   "outputs": [],
   "source": [
    "total.to_csv(\"{}.csv\".format('total_v2'), index = False)\n",
    "train_shuffled.to_csv(\"{}.csv\".format('train_shuffled_v2'), index = False)\n",
    "test_shuffled.to_csv(\"{}.csv\".format('test_shuffled_v2'), index = False)"
   ]
  }
 ],
 "metadata": {
  "interpreter": {
   "hash": "06e0f87ab8b70c106033d176c4661a31bf024dab1f89ad13f63ade89972f0e9f"
  },
  "kernelspec": {
   "display_name": "Python 3.9.7 64-bit",
   "language": "python",
   "name": "python3"
  },
  "language_info": {
   "codemirror_mode": {
    "name": "ipython",
    "version": 3
   },
   "file_extension": ".py",
   "mimetype": "text/x-python",
   "name": "python",
   "nbconvert_exporter": "python",
   "pygments_lexer": "ipython3",
   "version": "3.9.7"
  },
  "orig_nbformat": 4
 },
 "nbformat": 4,
 "nbformat_minor": 2
}
