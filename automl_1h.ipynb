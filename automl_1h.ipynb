{
 "cells": [
  {
   "cell_type": "code",
   "execution_count": 9,
   "id": "acb093cf",
   "metadata": {},
   "outputs": [],
   "source": [
    "import numpy as np\n",
    "import pandas as pd\n",
    "import matplotlib.pyplot as plt\n",
    "from sklearn.preprocessing import MinMaxScaler\n",
    "from sklearn.model_selection import train_test_split, KFold\n",
    "import autosklearn.regression\n",
    "import autosklearn.metrics"
   ]
  },
  {
   "cell_type": "code",
   "execution_count": 10,
   "id": "3b2cbf52",
   "metadata": {},
   "outputs": [],
   "source": [
    "# change the file name to import different train & test sets\n",
    "train = pd.read_csv('train_shuffled_16features.csv')\n",
    "test = pd.read_csv('test_shuffled_16features.csv')"
   ]
  },
  {
   "cell_type": "code",
   "execution_count": 11,
   "id": "e24c343f",
   "metadata": {},
   "outputs": [],
   "source": [
    "# split test/train for train data\n",
    "X = train.iloc[:, :-1]\n",
    "y = train['FUEL_CONSUMPTION']\n",
    "\n",
    "# normalize the data\n",
    "norm = MinMaxScaler().fit(train.iloc[:, :-1])\n",
    "X = norm.transform(X)\n",
    "\n",
    "# split train and validation sets\n",
    "X_train, X_valid, y_train, y_valid = train_test_split(X, y, test_size=0.3, random_state=42)"
   ]
  },
  {
   "cell_type": "code",
   "execution_count": 12,
   "id": "8f3da70c",
   "metadata": {},
   "outputs": [],
   "source": [
    "X_test = test.iloc[:, :-1]\n",
    "X_test = norm.transform(X_test)\n",
    "y_test = test['FUEL_CONSUMPTION']"
   ]
  },
  {
   "cell_type": "code",
   "execution_count": 13,
   "id": "0c8d1b6e",
   "metadata": {},
   "outputs": [],
   "source": [
    "# change the regressor's name to run a 1h automl training accordingly \n",
    "automl = autosklearn.regression.AutoSklearnRegressor(seed=42,\n",
    "                                                     time_left_for_this_task=3600,\n",
    "                                                     per_run_time_limit=180,\n",
    "                                                     metric=autosklearn.metrics.root_mean_squared_error,\n",
    "                                                     include={'regressor':[\"adaboost\"]}\n",
    "                                                     )"
   ]
  },
  {
   "cell_type": "code",
   "execution_count": 14,
   "id": "88375e6b",
   "metadata": {},
   "outputs": [],
   "source": [
    "automl.fit(X_train, y_train)"
   ]
  },
  {
   "cell_type": "code",
   "execution_count": 15,
   "id": "d33c1faa",
   "metadata": {},
   "outputs": [],
   "source": [
    "x = automl.predict(X_valid)\n",
    "print(\"automl RMSE\", np.sqrt(metrics.mean_squared_error(y_true=y_valid, y_pred= x)))\n",
    "print(\"automl MAPE\", metrics.mean_absolute_percentage_error(y_true=y_valid, y_pred= x))"
   ]
  },
  {
   "cell_type": "code",
   "execution_count": 16,
   "id": "f30d8c0b",
   "metadata": {},
   "outputs": [],
   "source": [
    "automl.leaderboard()"
   ]
  },
  {
   "cell_type": "code",
   "execution_count": 17,
   "id": "343ea15e",
   "metadata": {},
   "outputs": [],
   "source": [
    "automl.show_models()"
   ]
  }
 ],
 "metadata": {
  "kernelspec": {
   "display_name": "Python 3.9.7 64-bit",
   "language": "python",
   "name": "python3"
  },
  "language_info": {
   "codemirror_mode": {
    "name": "ipython",
    "version": 3
   },
   "file_extension": ".py",
   "mimetype": "text/x-python",
   "name": "python",
   "nbconvert_exporter": "python",
   "pygments_lexer": "ipython3",
   "version": "3.9.7"
  },
  "vscode": {
   "interpreter": {
    "hash": "06e0f87ab8b70c106033d176c4661a31bf024dab1f89ad13f63ade89972f0e9f"
   }
  }
 },
 "nbformat": 4,
 "nbformat_minor": 5
}
