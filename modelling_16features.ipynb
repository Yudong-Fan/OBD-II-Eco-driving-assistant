{
 "cells": [
  {
   "cell_type": "markdown",
   "metadata": {},
   "source": [
    "## Import libraries"
   ]
  },
  {
   "cell_type": "code",
   "execution_count": 137,
   "metadata": {},
   "outputs": [],
   "source": [
    "import numpy as np\n",
    "import pandas as pd\n",
    "import matplotlib.pyplot as plt\n",
    "import seaborn as sns \n",
    "from sklearn.model_selection import train_test_split, KFold\n",
    "from sklearn.svm import SVR\n",
    "from sklearn.svm import LinearSVR\n",
    "from sklearn import metrics\n",
    "from sklearn.tree import DecisionTreeRegressor\n",
    "from sklearn.ensemble import ExtraTreesRegressor\n",
    "from sklearn.ensemble import RandomForestRegressor\n",
    "from sklearn.ensemble import AdaBoostRegressor\n",
    "from sklearn.neural_network import MLPRegressor\n",
    "from sklearn.linear_model import SGDRegressor\n",
    "from sklearn.neighbors import KNeighborsRegressor\n",
    "from sklearn.model_selection import GridSearchCV\n",
    "from sklearn.model_selection import RandomizedSearchCV\n",
    "from sklearn.metrics import mean_absolute_error\n",
    "from sklearn.metrics import r2_score\n",
    "import time\n"
   ]
  },
  {
   "cell_type": "markdown",
   "metadata": {},
   "source": [
    "## Loading and normalizing data"
   ]
  },
  {
   "cell_type": "code",
   "execution_count": 138,
   "metadata": {},
   "outputs": [],
   "source": [
    "train = pd.read_csv('./train_shuffled_16features.csv')\n",
    "test = pd.read_csv('./test_shuffled_16features.csv')"
   ]
  },
  {
   "cell_type": "code",
   "execution_count": 139,
   "metadata": {},
   "outputs": [],
   "source": [
    "# split test/train for train data\n",
    "X = train.iloc[:, :-1]\n",
    "y = train['FUEL_CONSUMPTION']\n",
    "\n",
    "X_test = test.iloc[:, :-1]\n",
    "y_test = test['FUEL_CONSUMPTION']\n"
   ]
  },
  {
   "cell_type": "code",
   "execution_count": 140,
   "metadata": {},
   "outputs": [],
   "source": [
    "# normalize train data\n",
    "from sklearn.preprocessing import MinMaxScaler\n",
    "norm = MinMaxScaler().fit(train.iloc[:, :-1])\n",
    "X = norm.transform(X)"
   ]
  },
  {
   "cell_type": "code",
   "execution_count": 141,
   "metadata": {},
   "outputs": [],
   "source": [
    "# normalize test data\n",
    "X_test = norm.transform(X_test)"
   ]
  },
  {
   "cell_type": "code",
   "execution_count": 142,
   "metadata": {},
   "outputs": [],
   "source": [
    "# split train and validation sets\n",
    "X_train, X_valid, y_train, y_valid = train_test_split(X, y, test_size=0.3, random_state=42)"
   ]
  },
  {
   "cell_type": "markdown",
   "metadata": {},
   "source": [
    "## Linear regression as base line"
   ]
  },
  {
   "cell_type": "code",
   "execution_count": 143,
   "metadata": {},
   "outputs": [
    {
     "name": "stdout",
     "output_type": "stream",
     "text": [
      "Linear Regression RMSE 10.517711098444833\n"
     ]
    }
   ],
   "source": [
    "# linear regression as base line\n",
    "from sklearn.linear_model import LinearRegression\n",
    "linear = LinearRegression()\n",
    "linear.fit(X_train, y_train)\n",
    "y_pred = linear.predict(X_valid)\n",
    "print(\"Linear Regression RMSE\", np.sqrt(metrics.mean_squared_error(y_true=y_valid, y_pred= y_pred)))\n"
   ]
  },
  {
   "cell_type": "code",
   "execution_count": 144,
   "metadata": {},
   "outputs": [
    {
     "name": "stdout",
     "output_type": "stream",
     "text": [
      "Linear Regression RMSE 12.953305404984285\n"
     ]
    }
   ],
   "source": [
    "# base line test set result\n",
    "y_pred = linear.predict(X_test)\n",
    "print(\"Linear Regression RMSE\", np.sqrt(metrics.mean_squared_error(y_true=y_test, y_pred= y_pred)))"
   ]
  },
  {
   "cell_type": "markdown",
   "metadata": {},
   "source": [
    "## Model & pipeline initialization"
   ]
  },
  {
   "cell_type": "code",
   "execution_count": 145,
   "metadata": {},
   "outputs": [],
   "source": [
    "# initialize ML models with the best single model in autoML 1h training\n",
    "\n",
    "knn = KNeighborsRegressor(n_neighbors=2, weights='distance')\n",
    "\n",
    "sgd = SGDRegressor(alpha=5.971194851970654e-05, epsilon=0.046386514888991696,\n",
    "               eta0=0.015045576741766471, loss='squared_epsilon_insensitive',\n",
    "               max_iter=128, penalty='l1', power_t=0.11270288932176514,\n",
    "               random_state=42, tol=3.883427782042011e-05, warm_start=True)\n",
    "\n",
    "svr = SVR(C=40.141231303731544, cache_size=2021.4479166666667,\n",
    "      epsilon=0.007539926872636399, gamma=0.2008913139792154,\n",
    "      tol=0.01039576978136512, verbose=0)\n",
    "\n",
    "linear_svr = LinearSVR(C=17.287648490892263, dual=False, epsilon=0.12424593618930425,\n",
    "            loss='squared_epsilon_insensitive', random_state=42,\n",
    "            tol=0.00021914796972665943)\n",
    "\n",
    "dt = DecisionTreeRegressor(max_depth=13, min_samples_split=6, random_state=42)\n",
    "\n",
    "et = ExtraTreesRegressor(max_features=0.9797793053686011, min_samples_split=4,\n",
    "                      n_estimators=512, n_jobs=1, random_state=42,\n",
    "                      warm_start=True)\n",
    "                      \n",
    "rf = RandomForestRegressor(max_features=1.0, n_estimators=512, n_jobs=-1,\n",
    "                        random_state=42, warm_start=True)\n",
    "\n",
    "nn = MLPRegressor(alpha=0.00014351289686054372, beta_1=0.999, beta_2=0.9,\n",
    "               early_stopping=True, hidden_layer_sizes=(96,),\n",
    "               learning_rate_init=0.006286073628770789, max_iter=64,\n",
    "               n_iter_no_change=32, random_state=42, verbose=0, warm_start=True)\n",
    "\n",
    "ada = AdaBoostRegressor(base_estimator=DecisionTreeRegressor(max_depth=10),\n",
    "                    learning_rate=0.2663713456553139, loss='exponential',\n",
    "                    n_estimators=318, random_state=42)\n"
   ]
  },
  {
   "cell_type": "code",
   "execution_count": 146,
   "metadata": {},
   "outputs": [],
   "source": [
    "def train_models(X_train, X_valid, y_train, y_valid):\n",
    "\n",
    "    # KNN\n",
    "    knn.fit(X_train, y_train)\n",
    "    y_pred = knn.predict(X_valid)\n",
    "    print(\"KNN RMSE\", np.sqrt(metrics.mean_squared_error(y_true=y_valid, y_pred= y_pred)))\n",
    "    \n",
    "    # SGD\n",
    "    sgd.fit(X_train, y_train)\n",
    "    y_pred = sgd.predict(X_valid)\n",
    "    print(\"SGD RMSE\", np.sqrt(metrics.mean_squared_error(y_true=y_valid, y_pred= y_pred)))\n",
    "\n",
    "    # SVR\n",
    "    svr.fit(X_train, y_train)\n",
    "    y_pred = svr.predict(X_valid)\n",
    "    print(\"SVR RMSE\", np.sqrt(metrics.mean_squared_error(y_true=y_valid, y_pred= y_pred)))\n",
    "\n",
    "    # Linear SVR\n",
    "    linear_svr.fit(X_train, y_train)\n",
    "    y_pred = linear_svr.predict(X_valid)\n",
    "    print(\"Linear SVR RMSE\", np.sqrt(metrics.mean_squared_error(y_true=y_valid, y_pred= y_pred)))\n",
    "\n",
    "    # et\n",
    "    et.fit(X_train, y_train)\n",
    "    y_pred = et.predict(X_valid)\n",
    "    print(\"Extra Tree RMSE\", np.sqrt(metrics.mean_squared_error(y_true=y_valid, y_pred= y_pred)))\n",
    "\n",
    "    # Decision Tree\n",
    "    dt.fit(X_train, y_train)\n",
    "    y_pred = dt.predict(X_valid)\n",
    "    print(\"Decision Tree RMSE\", np.sqrt(metrics.mean_squared_error(y_true=y_valid, y_pred= y_pred)))\n",
    "\n",
    "    # Random Forest\n",
    "    rf.fit(X_train, y_train)\n",
    "    y_pred = rf.predict(X_valid)\n",
    "    print(\"Random Forest RMSE\", np.sqrt(metrics.mean_squared_error(y_true=y_valid, y_pred= y_pred)))\n",
    "\n",
    "    # NN\n",
    "    nn.fit(X_train, y_train)\n",
    "    y_pred = nn.predict(X_valid)\n",
    "    print(\"Neural Network RMSE\", np.sqrt(metrics.mean_squared_error(y_true=y_valid, y_pred= y_pred)))\n",
    "    \n",
    "    # Adaboost\n",
    "    ada.fit(X_train, y_train)\n",
    "    y_pred = ada.predict(X_valid)\n",
    "    print(\"Adaboost RMSE\", np.sqrt(metrics.mean_squared_error(y_true=y_valid, y_pred= y_pred)))\n"
   ]
  },
  {
   "cell_type": "code",
   "execution_count": 147,
   "metadata": {},
   "outputs": [],
   "source": [
    "def test_data_result(X_test, y_test):\n",
    "\n",
    "    # KNN\n",
    "    y_pred = knn.predict(X_test)\n",
    "    print(\"KNN RMSE\", np.sqrt(metrics.mean_squared_error(y_true=y_test, y_pred= y_pred)))\n",
    "\n",
    "    # SGD\n",
    "    y_pred = sgd.predict(X_test)\n",
    "    print(\"SGD RMSE\", np.sqrt(metrics.mean_squared_error(y_true=y_test, y_pred= y_pred)))\n",
    "\n",
    "    # SVR\n",
    "    y_pred = svr.predict(X_test)\n",
    "    print(\"SVR RMSE\", np.sqrt(metrics.mean_squared_error(y_true=y_test, y_pred= y_pred)))\n",
    "\n",
    "    # Linear SVR\n",
    "    y_pred = linear_svr.predict(X_test)\n",
    "    print(\"Linear SVR RMSE\", np.sqrt(metrics.mean_squared_error(y_true=y_test, y_pred= y_pred)))\n",
    "\n",
    "    # Extra Tree\n",
    "    y_pred = et.predict(X_test)\n",
    "    print(\"Extra Tree RMSE\", np.sqrt(metrics.mean_squared_error(y_true=y_test, y_pred= y_pred)))\n",
    "\n",
    "    # Decision Tree\n",
    "    y_pred = dt.predict(X_test)\n",
    "    print(\"Decision Tree RMSE\", np.sqrt(metrics.mean_squared_error(y_true=y_test, y_pred= y_pred)))\n",
    "\n",
    "    # Random Forest\n",
    "    y_pred = rf.predict(X_test)\n",
    "    print(\"Random Forest RMSE\", np.sqrt(metrics.mean_squared_error(y_true=y_test, y_pred= y_pred)))\n",
    "\n",
    "    # NN\n",
    "    y_pred = nn.predict(X_test)\n",
    "    print(\"Neural Network RMSE\", np.sqrt(metrics.mean_squared_error(y_true=y_test, y_pred= y_pred)))\n",
    "\n",
    "    # Adaboost\n",
    "    y_pred = ada.predict(X_test)\n",
    "    print(\"Adaboost RMSE\", np.sqrt(metrics.mean_squared_error(y_true=y_test, y_pred= y_pred)))"
   ]
  },
  {
   "cell_type": "markdown",
   "metadata": {},
   "source": [
    "## Cross validation"
   ]
  },
  {
   "cell_type": "code",
   "execution_count": 148,
   "metadata": {},
   "outputs": [],
   "source": [
    "# n_fold = 5\n",
    "# folds = KFold(n_splits=n_fold, shuffle=True, random_state=42)"
   ]
  },
  {
   "cell_type": "code",
   "execution_count": 149,
   "metadata": {},
   "outputs": [],
   "source": [
    "# def cv_classical_models(X, y, model):\n",
    "    \n",
    "#     RMSE_scores = []\n",
    "#     MAE_scores = []\n",
    "#     R2_scores = []\n",
    "#     AR2_scores = []\n",
    "    \n",
    "#     for fold_n, (train_index, valid_index) in enumerate(folds.split(X)):\n",
    "#         print('Fold', fold_n, 'started at', time.ctime())\n",
    "#         regr = 0\n",
    "#         X_train, X_valid = X[train_index], X[valid_index]\n",
    "#         y_train, y_valid = y[train_index], y[valid_index]\n",
    "        \n",
    "#         if model == 'ADA':\n",
    "#             regr = ada\n",
    "#             regr.fit(X_train, y_train)\n",
    "\n",
    "#         if model == 'SVR':\n",
    "#             regr = svr\n",
    "#             regr.fit(X_train, y_train)\n",
    "        \n",
    "#         if model == 'RF':\n",
    "#             regr = rf\n",
    "#             regr.fit(X_train, y_train)\n",
    "\n",
    "#         if model == 'DT':\n",
    "#             regr = dt\n",
    "#             regr.fit(X_train, y_train)\n",
    "\n",
    "#         if model == 'NN':\n",
    "#             regr = nn\n",
    "#             regr.fit(X_train, y_train)\n",
    "\n",
    "#         if model == 'KNN':\n",
    "#             regr = knn\n",
    "#             regr.fit(X_train, y_train)\n",
    "\n",
    "#         if model == 'SGD':\n",
    "#             regr = sgd\n",
    "#             regr.fit(X_train, y_train)\n",
    "        \n",
    "#         if model == 'Linear SVR':\n",
    "#             regr = linear_svr\n",
    "#             regr.fit(X_train, y_train)\n",
    "\n",
    "#         if model == 'ET':\n",
    "#             regr = et\n",
    "#             regr.fit(X_train, y_train)      \n",
    "        \n",
    "#         y_pred_valid = regr.predict(X_valid).reshape(-1,)\n",
    "#         RMSE_score = np.sqrt(metrics.mean_squared_error(y_true=y_valid, y_pred= y_pred_valid))\n",
    "#         MAE_score = mean_absolute_error(y_valid,y_pred_valid)\n",
    "#         R2_score = r2_score(y_valid, y_pred_valid)\n",
    "#         RMSE_scores.append(RMSE_score)\n",
    "#         MAE_scores.append(MAE_score)\n",
    "#         R2_scores.append(R2_score)\n",
    "\n",
    "#         n = X.shape[0]\n",
    "#         k = X.shape[1]\n",
    "#         AR2_score = 1-((1-R2_score)*(n-1)/(n-k-1))\n",
    "#         AR2_scores.append(AR2_score)\n",
    "\n",
    "#     print(model,' -- CV RMSE mean score: {0:.4f}, std: {1:.4f}.'.format(np.mean(RMSE_scores), np.std(RMSE_scores)))\n",
    "#     print(model,' -- CV MAE mean score: {0:.4f}, std: {1:.4f}.'.format(np.mean(MAE_scores), np.std(MAE_scores)))\n",
    "#     print(model,' -- CV R2 mean score: {0:.4f}, std: {1:.4f}.'.format(np.mean(R2_scores), np.std(R2_scores)))\n",
    "#     print(model,' -- CV Adjusted R2 mean score: {0:.4f}, std: {1:.4f}.'.format(np.mean(AR2_scores), np.std(AR2_scores)))"
   ]
  },
  {
   "cell_type": "code",
   "execution_count": 150,
   "metadata": {},
   "outputs": [],
   "source": [
    "# cv_classical_models(X, y, 'KNN')\n",
    "# cv_classical_models(X, y, 'Linear SVR')\n",
    "# cv_classical_models(X, y, 'SVR')\n",
    "# cv_classical_models(X, y, 'SGD')\n",
    "# cv_classical_models(X, y, 'DT')\n",
    "# cv_classical_models(X, y, 'ET')\n",
    "# cv_classical_models(X, y, 'RF')\n",
    "# cv_classical_models(X, y, 'NN')\n",
    "# cv_classical_models(X, y, 'ADA')"
   ]
  },
  {
   "cell_type": "markdown",
   "metadata": {},
   "source": [
    "## Results"
   ]
  },
  {
   "cell_type": "code",
   "execution_count": 151,
   "metadata": {},
   "outputs": [
    {
     "name": "stdout",
     "output_type": "stream",
     "text": [
      "KNN RMSE 8.672881457237327\n",
      "SGD RMSE 11.128287880438053\n",
      "SVR RMSE 10.292517577092408\n",
      "Linear SVR RMSE 10.518423373392075\n",
      "Extra Tree RMSE 0.8351641015014807\n",
      "Decision Tree RMSE 2.3105245627191198\n",
      "Random Forest RMSE 1.9024522866466844\n"
     ]
    },
    {
     "name": "stderr",
     "output_type": "stream",
     "text": [
      "C:\\Users\\night\\AppData\\Local\\Programs\\Python\\Python39\\lib\\site-packages\\sklearn\\neural_network\\_multilayer_perceptron.py:614: ConvergenceWarning: Stochastic Optimizer: Maximum iterations (64) reached and the optimization hasn't converged yet.\n",
      "  warnings.warn(\n"
     ]
    },
    {
     "name": "stdout",
     "output_type": "stream",
     "text": [
      "Neural Network RMSE 7.67641036172388\n",
      "Adaboost RMSE 1.9941563001951765\n"
     ]
    }
   ],
   "source": [
    "train_models(X_train, X_valid, y_train, y_valid)"
   ]
  },
  {
   "cell_type": "code",
   "execution_count": 152,
   "metadata": {},
   "outputs": [
    {
     "name": "stdout",
     "output_type": "stream",
     "text": [
      "KNN RMSE 13.208204707403\n",
      "SGD RMSE 13.383710559411073\n",
      "SVR RMSE 12.811836842651838\n",
      "Linear SVR RMSE 12.95094780841463\n",
      "Extra Tree RMSE 3.215047198547246\n",
      "Decision Tree RMSE 4.908793090422475\n",
      "Random Forest RMSE 3.2667461322841067\n",
      "Neural Network RMSE 10.171263172368052\n",
      "Adaboost RMSE 3.4083184573829772\n"
     ]
    }
   ],
   "source": [
    "test_data_result(X_test, y_test)"
   ]
  },
  {
   "cell_type": "markdown",
   "metadata": {},
   "source": [
    "## Permutation feature importance"
   ]
  },
  {
   "cell_type": "code",
   "execution_count": 153,
   "metadata": {},
   "outputs": [
    {
     "name": "stdout",
     "output_type": "stream",
     "text": [
      "SPEED    0.949 +/- 0.018\n",
      "FUEL_LEVEL 0.039 +/- 0.007\n",
      "ENGINE_LOAD 0.036 +/- 0.005\n",
      "MAF      0.023 +/- 0.004\n",
      "FUEL_RATE 0.020 +/- 0.004\n",
      "THROTTLE_POS 0.005 +/- 0.001\n",
      "INTAKE_MANIFOLD_PRESSURE 0.004 +/- 0.002\n"
     ]
    }
   ],
   "source": [
    "from sklearn.inspection import permutation_importance\n",
    "# nn\n",
    "r = permutation_importance(nn, X_valid, y_valid,\n",
    "                            n_repeats=30,\n",
    "                            random_state=42)\n",
    "\n",
    "for i in r.importances_mean.argsort()[::-1]:\n",
    "    if r.importances_mean[i] - 2 * r.importances_std[i] > 0:\n",
    "        print(f\"{train.columns[i]:<8} \"\n",
    "            f\"{r.importances_mean[i]:.3f}\"\n",
    "            f\" +/- {r.importances_std[i]:.3f}\")"
   ]
  },
  {
   "cell_type": "code",
   "execution_count": 154,
   "metadata": {},
   "outputs": [
    {
     "name": "stdout",
     "output_type": "stream",
     "text": [
      "SPEED    4.748 +/- 0.527\n",
      "THROTTLE_POS 0.975 +/- 0.331\n",
      "MAF      0.264 +/- 0.020\n",
      "FUEL_RATE 0.172 +/- 0.012\n",
      "ENGINE_LOAD 0.021 +/- 0.002\n"
     ]
    }
   ],
   "source": [
    "# decision tree\n",
    "r = permutation_importance(dt, X_valid, y_valid,\n",
    "                            n_repeats=30,\n",
    "                            random_state=42)\n",
    "\n",
    "for i in r.importances_mean.argsort()[::-1]:\n",
    "    if r.importances_mean[i] - 2 * r.importances_std[i] > 0:\n",
    "        print(f\"{train.columns[i]:<8} \"\n",
    "            f\"{r.importances_mean[i]:.3f}\"\n",
    "            f\" +/- {r.importances_std[i]:.3f}\")"
   ]
  },
  {
   "cell_type": "code",
   "execution_count": 155,
   "metadata": {},
   "outputs": [
    {
     "name": "stdout",
     "output_type": "stream",
     "text": [
      "SPEED    4.209 +/- 0.323\n",
      "FUEL_RATE 0.338 +/- 0.023\n",
      "MAF      0.328 +/- 0.021\n",
      "ENGINE_RPM 0.029 +/- 0.004\n",
      "ENGINE_LOAD 0.017 +/- 0.002\n",
      "THROTTLE_POS 0.006 +/- 0.001\n",
      "TIMING_ADVANCE 0.003 +/- 0.001\n",
      "FUEL_LEVEL 0.002 +/- 0.001\n",
      "ENGINE_RUNTIME 0.000 +/- 0.000\n"
     ]
    }
   ],
   "source": [
    "# extra trees\n",
    "r = permutation_importance(et, X_valid, y_valid,\n",
    "                            n_repeats=30,\n",
    "                            random_state=42)\n",
    "\n",
    "for i in r.importances_mean.argsort()[::-1]:\n",
    "    if r.importances_mean[i] - 2 * r.importances_std[i] > 0:\n",
    "        print(f\"{train.columns[i]:<8} \"\n",
    "            f\"{r.importances_mean[i]:.3f}\"\n",
    "            f\" +/- {r.importances_std[i]:.3f}\")"
   ]
  },
  {
   "cell_type": "code",
   "execution_count": 156,
   "metadata": {},
   "outputs": [
    {
     "name": "stdout",
     "output_type": "stream",
     "text": [
      "SPEED    4.347 +/- 0.379\n",
      "FUEL_RATE 0.211 +/- 0.021\n",
      "MAF      0.208 +/- 0.020\n",
      "ENGINE_RPM 0.037 +/- 0.006\n",
      "THROTTLE_POS 0.033 +/- 0.009\n",
      "ENGINE_LOAD 0.019 +/- 0.003\n"
     ]
    }
   ],
   "source": [
    "# random forest\n",
    "r = permutation_importance(rf, X_valid, y_valid,\n",
    "                            n_repeats=30,\n",
    "                            random_state=42)\n",
    "\n",
    "for i in r.importances_mean.argsort()[::-1]:\n",
    "    if r.importances_mean[i] - 2 * r.importances_std[i] > 0:\n",
    "        print(f\"{train.columns[i]:<8} \"\n",
    "            f\"{r.importances_mean[i]:.3f}\"\n",
    "            f\" +/- {r.importances_std[i]:.3f}\")"
   ]
  },
  {
   "cell_type": "code",
   "execution_count": 157,
   "metadata": {},
   "outputs": [
    {
     "name": "stdout",
     "output_type": "stream",
     "text": [
      "SPEED    4.883 +/- 0.655\n",
      "FUEL_RATE 0.196 +/- 0.018\n",
      "MAF      0.188 +/- 0.018\n",
      "THROTTLE_POS 0.003 +/- 0.001\n",
      "ENGINE_LOAD 0.000 +/- 0.000\n"
     ]
    }
   ],
   "source": [
    "# adaboost\n",
    "r = permutation_importance(ada, X_valid, y_valid,\n",
    "                            n_repeats=30,\n",
    "                            random_state=42)\n",
    "\n",
    "for i in r.importances_mean.argsort()[::-1]:\n",
    "    if r.importances_mean[i] - 2 * r.importances_std[i] > 0:\n",
    "        print(f\"{train.columns[i]:<8} \"\n",
    "            f\"{r.importances_mean[i]:.3f}\"\n",
    "            f\" +/- {r.importances_std[i]:.3f}\")"
   ]
  },
  {
   "cell_type": "code",
   "execution_count": 158,
   "metadata": {},
   "outputs": [
    {
     "name": "stdout",
     "output_type": "stream",
     "text": [
      "SPEED    0.726 +/- 0.021\n",
      "MAF      0.064 +/- 0.006\n",
      "FUEL_RATE 0.064 +/- 0.006\n",
      "ENGINE_LOAD 0.031 +/- 0.004\n",
      "ENGINE_RPM 0.026 +/- 0.003\n",
      "TIMING_ADVANCE 0.010 +/- 0.002\n",
      "FUEL_LEVEL 0.009 +/- 0.003\n",
      "ENGINE_RUNTIME 0.006 +/- 0.002\n",
      "THROTTLE_POS 0.004 +/- 0.001\n",
      "AIR_INTAKE_TEMP 0.004 +/- 0.002\n",
      "AMBIENT_AIR_TEMP 0.002 +/- 0.001\n"
     ]
    }
   ],
   "source": [
    "# SGD\n",
    "r = permutation_importance(sgd, X_valid, y_valid,\n",
    "                            n_repeats=30,\n",
    "                            random_state=42)\n",
    "\n",
    "for i in r.importances_mean.argsort()[::-1]:\n",
    "    if r.importances_mean[i] - 2 * r.importances_std[i] > 0:\n",
    "        print(f\"{train.columns[i]:<8} \"\n",
    "            f\"{r.importances_mean[i]:.3f}\"\n",
    "            f\" +/- {r.importances_std[i]:.3f}\")"
   ]
  },
  {
   "cell_type": "code",
   "execution_count": 159,
   "metadata": {},
   "outputs": [
    {
     "name": "stdout",
     "output_type": "stream",
     "text": [
      "SPEED    0.640 +/- 0.055\n",
      "ENGINE_LOAD 0.279 +/- 0.056\n",
      "ENGINE_RPM 0.268 +/- 0.061\n",
      "FUEL_LEVEL 0.266 +/- 0.041\n",
      "ENGINE_RUNTIME 0.185 +/- 0.063\n",
      "INTAKE_MANIFOLD_PRESSURE 0.135 +/- 0.041\n",
      "MAF      0.121 +/- 0.053\n",
      "FUEL_RATE 0.121 +/- 0.053\n",
      "AMBIENT_AIR_TEMP 0.097 +/- 0.046\n",
      "AIR_INTAKE_TEMP 0.090 +/- 0.033\n"
     ]
    }
   ],
   "source": [
    "# KNN\n",
    "r = permutation_importance(knn, X_valid, y_valid,\n",
    "                            n_repeats=30,\n",
    "                            random_state=42)\n",
    "\n",
    "for i in r.importances_mean.argsort()[::-1]:\n",
    "    if r.importances_mean[i] - 2 * r.importances_std[i] > 0:\n",
    "        print(f\"{train.columns[i]:<8} \"\n",
    "            f\"{r.importances_mean[i]:.3f}\"\n",
    "            f\" +/- {r.importances_std[i]:.3f}\")"
   ]
  },
  {
   "cell_type": "code",
   "execution_count": 160,
   "metadata": {},
   "outputs": [
    {
     "name": "stdout",
     "output_type": "stream",
     "text": [
      "SPEED    0.540 +/- 0.012\n",
      "FUEL_RATE 0.057 +/- 0.012\n",
      "MAF      0.057 +/- 0.012\n",
      "TIMING_ADVANCE 0.011 +/- 0.001\n",
      "FUEL_LEVEL 0.009 +/- 0.002\n",
      "AIR_INTAKE_TEMP 0.003 +/- 0.001\n",
      "ENGINE_RPM 0.002 +/- 0.000\n",
      "INTAKE_MANIFOLD_PRESSURE 0.001 +/- 0.000\n",
      "BAROMETRIC_PRESSURE(KPA) 0.001 +/- 0.000\n"
     ]
    }
   ],
   "source": [
    "# SVR\n",
    "r = permutation_importance(svr, X_valid, y_valid,\n",
    "                            n_repeats=30,\n",
    "                            random_state=42)\n",
    "\n",
    "for i in r.importances_mean.argsort()[::-1]:\n",
    "    if r.importances_mean[i] - 2 * r.importances_std[i] > 0:\n",
    "        print(f\"{train.columns[i]:<8} \"\n",
    "            f\"{r.importances_mean[i]:.3f}\"\n",
    "            f\" +/- {r.importances_std[i]:.3f}\")"
   ]
  },
  {
   "cell_type": "code",
   "execution_count": 161,
   "metadata": {},
   "outputs": [
    {
     "name": "stdout",
     "output_type": "stream",
     "text": [
      "SPEED    0.739 +/- 0.021\n",
      "MAF      0.072 +/- 0.007\n",
      "FUEL_RATE 0.072 +/- 0.007\n",
      "ENGINE_LOAD 0.028 +/- 0.004\n",
      "ENGINE_RPM 0.024 +/- 0.003\n",
      "TIMING_ADVANCE 0.011 +/- 0.002\n",
      "FUEL_LEVEL 0.006 +/- 0.002\n",
      "THROTTLE_POS 0.006 +/- 0.002\n",
      "ENGINE_RUNTIME 0.006 +/- 0.002\n"
     ]
    }
   ],
   "source": [
    "# Linear SVR\n",
    "r = permutation_importance(linear_svr, X_valid, y_valid,\n",
    "                            n_repeats=30,\n",
    "                            random_state=42)\n",
    "\n",
    "for i in r.importances_mean.argsort()[::-1]:\n",
    "    if r.importances_mean[i] - 2 * r.importances_std[i] > 0:\n",
    "        print(f\"{train.columns[i]:<8} \"\n",
    "            f\"{r.importances_mean[i]:.3f}\"\n",
    "            f\" +/- {r.importances_std[i]:.3f}\")"
   ]
  }
 ],
 "metadata": {
  "interpreter": {
   "hash": "ff5e65052372cb4e82f711e1f5e9e3de3e295539c2d5e104c7ef48a12bc602b7"
  },
  "kernelspec": {
   "display_name": "Python 3.9.7 64-bit",
   "language": "python",
   "name": "python3"
  },
  "language_info": {
   "codemirror_mode": {
    "name": "ipython",
    "version": 3
   },
   "file_extension": ".py",
   "mimetype": "text/x-python",
   "name": "python",
   "nbconvert_exporter": "python",
   "pygments_lexer": "ipython3",
   "version": "3.9.7"
  },
  "orig_nbformat": 4
 },
 "nbformat": 4,
 "nbformat_minor": 2
}
